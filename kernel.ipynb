{
 "cells": [
  {
   "cell_type": "markdown",
   "metadata": {},
   "source": [
    "# Atividade 2 - Operações sobre conjuntos Fuzzy\n",
    "\n",
    "Programar (em qualquer linguagem) os operadores estudados, aplicá-los sobre os conjuntos fuzzy triangulares abaixo e mostrar o conjunto fuzzy resultante.\n",
    "\n",
    "![](img/conjunto.png)\n",
    "\n",
    "---\n",
    "## Operações em Conjuntos Fuzzy\n",
    "  * **Operações padrão**\n",
    "     * _Complemento Fuzzy_\n",
    "     * _Intersecção Fuzzy_\n",
    "     * _União Fuzzy_\n",
    "  * **Operações Generalizadas**\n",
    "     * _T-Normas e intersecção generalizada_\n",
    "     * _T-conormas e União generalizada_\n",
    "     * _Dualidade e leis de De Morgan_\n",
    "---"
   ]
  },
  {
   "cell_type": "markdown",
   "metadata": {},
   "source": [
    "### Conjuntos A e B"
   ]
  },
  {
   "cell_type": "code",
   "execution_count": 98,
   "metadata": {},
   "outputs": [
    {
     "name": "stdout",
     "output_type": "stream",
     "text": [
      "a[ 1 ],m[ 3.5 ],b[ 6 ],x[ 1 ]\n",
      "a[ 1 ],m[ 3.5 ],b[ 6 ],x[ 2 ]\n",
      "a[ 1 ],m[ 3.5 ],b[ 6 ],x[ 3 ]\n",
      "a[ 1 ],m[ 3.5 ],b[ 6 ],x[ 4 ]\n",
      "a[ 1 ],m[ 3.5 ],b[ 6 ],x[ 5 ]\n",
      "a[ 1 ],m[ 3.5 ],b[ 6 ],x[ 6 ]\n",
      "a[ 3 ],m[ 5.0 ],b[ 7 ],x[ 3 ]\n",
      "a[ 3 ],m[ 5.0 ],b[ 7 ],x[ 4 ]\n",
      "a[ 3 ],m[ 5.0 ],b[ 7 ],x[ 5 ]\n",
      "a[ 3 ],m[ 5.0 ],b[ 7 ],x[ 6 ]\n",
      "a[ 3 ],m[ 5.0 ],b[ 7 ],x[ 7 ]\n",
      "Crips A =>  [1, 2, 3, 4, 5, 6]\n",
      "Conjunto B =>  [3, 4, 5, 6, 7]\n",
      " Fuzzy : elementos e pertinência  {1: 0, 2: 0.4, 3: 0.8, 4: 0.8, 5: 0.4, 6: 0}\n",
      " Fuzzy : elementos e pertinência  {3: 0, 4: 0.5, 5: 1, 6: 0.5, 7: 0}\n"
     ]
    }
   ],
   "source": [
    "\n",
    "def get_pertinence_triangle(a,m,b,x, max_degree):\n",
    "    print('a[',a,'],m[',m,'],b[',b,'],x[',x,']')\n",
    "    if x <= a or x >= b:\n",
    "        return 0\n",
    "    if m == x:\n",
    "        return max_degree\n",
    "    if x > a and x < m:\n",
    "        return ((x-a)/(m-a))\n",
    "    if x > m and x < b:\n",
    "        return ((b-x)/(b-m))\n",
    "\n",
    "def get_m(conj):\n",
    "    return float((conj[0] + conj[len(conj)-1])/2)\n",
    "\n",
    "def insert_m(conj, m):\n",
    "    if m in not cont:\n",
    "        conj.append(m)\n",
    "        conj.sort()\n",
    "    return conj\n",
    "\n",
    "A = list(range(1, 6+1))\n",
    "B = list(range(3, 7+1))\n",
    "\n",
    "\n",
    "cfA = {}\n",
    "cfB = {}\n",
    "\n",
    "m_A = get_m(A)\n",
    "m_B = get_m(B)\n",
    "\n",
    "for i in A: # obtendo a pertinência de cada ponto do conjjunto A\n",
    "    cfA[i] = get_pertinence_triangle(A[0], m_A, A[len(A)-1], i, 1)\n",
    "    \n",
    "for i in B: # obtendo a pertinência de cada ponto do conjjunto A\n",
    "    cfB[i] = get_pertinence_triangle(B[0], m_B, B[len(B)-1], i, 1)\n",
    "\n",
    "\n",
    "print('Crips A => ', A)\n",
    "print('Conjunto B => ', B)\n",
    "    \n",
    "print(' Fuzzy : elementos e pertinência ', cfA)\n",
    "print(' Fuzzy : elementos e pertinência ', cfB)\n",
    "\n",
    "# bug, mas incluir o M\n",
    "\n"
   ]
  },
  {
   "cell_type": "code",
   "execution_count": 97,
   "metadata": {},
   "outputs": [
    {
     "data": {
      "text/plain": [
       "[<matplotlib.lines.Line2D at 0x7ff252f86080>]"
      ]
     },
     "execution_count": 97,
     "metadata": {},
     "output_type": "execute_result"
    },
    {
     "data": {
      "image/png": "[encoded data removed]",
      "text/plain": [
       "<Figure size 432x288 with 1 Axes>"
      ]
     },
     "metadata": {},
     "output_type": "display_data"
    }
   ],
   "source": [
    "# import lib\n",
    "import matplotlib.pyplot as plt\n",
    "%matplotlib inline\n",
    "\n",
    "# vendo o gráfico\n",
    "plt.plot(cfA.keys(), cfA.values())\n",
    "plt.plot(cfB.keys(), cfB.values())"
   ]
  },
  {
   "cell_type": "markdown",
   "metadata": {},
   "source": [
    "### Operações padrão - Intersecção\n",
    "(A ∩ B) (x) = min(A(x), B(x))"
   ]
  },
  {
   "cell_type": "code",
   "execution_count": 82,
   "metadata": {},
   "outputs": [
    {
     "data": {
      "text/plain": [
       "{3: 0, 4: 0.6666666666666666, 5: 0.6666666666666666, 6: 0}"
      ]
     },
     "execution_count": 82,
     "metadata": {},
     "output_type": "execute_result"
    }
   ],
   "source": [
    "\n",
    "# mínimo ponto da intersecção dos conjuntos eu encontro \n",
    "# o maior grau de pertinência.\n",
    "\n",
    "def intersection_min_max(conjuntoA, conjuntoB):\n",
    "    pi = min(conjuntoB)\n",
    "    pf = max(conjuntoA)\n",
    "    return list(range(pi,pf+1))\n",
    "\n",
    "\n",
    "def intersection(conjuntoA, conjuntoB):\n",
    "    inter = []\n",
    "    for i in conjuntoA:\n",
    "        for j in conjuntoB:\n",
    "            if i == j:\n",
    "                inter.append(i)\n",
    "    return inter\n",
    "                \n",
    "\n",
    "AUB = intersection(cfA.keys(),cfB.keys())\n",
    "cf_AUB = {}\n",
    "for i in AUB:\n",
    "    cf_AUB[i] = get_pertinence_triangle(AUB[0],((AUB[0]+AUB[len(AUB)-1])/2), AUB[len(AUB)-1], i, 0.5)\n",
    "    \n",
    "cf_AUB"
   ]
  },
  {
   "cell_type": "code",
   "execution_count": 83,
   "metadata": {},
   "outputs": [
    {
     "data": {
      "text/plain": [
       "[<matplotlib.lines.Line2D at 0x7ff252fa7e80>]"
      ]
     },
     "execution_count": 83,
     "metadata": {},
     "output_type": "execute_result"
    },
    {
     "data": {
      "image/png": "[encoded data removed]",
      "text/plain": [
       "<Figure size 432x288 with 1 Axes>"
      ]
     },
     "metadata": {},
     "output_type": "display_data"
    }
   ],
   "source": [
    "plt.plot(cfA.keys(), cfA.values())\n",
    "plt.plot(cfB.keys(), cfB.values())\n",
    "plt.plot(cf_AUB.keys(), cf_AUB.values()) #  se não definir o maior grau de pertinência"
   ]
  },
  {
   "cell_type": "code",
   "execution_count": 58,
   "metadata": {},
   "outputs": [
    {
     "data": {
      "text/plain": [
       "{3: 0, 4: 1, 5: 0.5, 6: 0}"
      ]
     },
     "execution_count": 58,
     "metadata": {},
     "output_type": "execute_result"
    }
   ],
   "source": []
  },
  {
   "cell_type": "code",
   "execution_count": null,
   "metadata": {},
   "outputs": [],
   "source": []
  }
 ],
 "metadata": {
  "kernelspec": {
   "display_name": "Python 3",
   "language": "python",
   "name": "python3"
  },
  "language_info": {
   "codemirror_mode": {
    "name": "ipython",
    "version": 3
   },
   "file_extension": ".py",
   "mimetype": "text/x-python",
   "name": "python",
   "nbconvert_exporter": "python",
   "pygments_lexer": "ipython3",
   "version": "3.5.2"
  }
 },
 "nbformat": 4,
 "nbformat_minor": 2
}
